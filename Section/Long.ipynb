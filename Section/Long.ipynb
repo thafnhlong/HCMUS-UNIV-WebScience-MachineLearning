{
 "cells": [
  {
   "cell_type": "markdown",
   "metadata": {},
   "source": [
    "### I. Chuẩn bị môi trường:"
   ]
  },
  {
   "cell_type": "code",
   "execution_count": 7,
   "metadata": {},
   "outputs": [],
   "source": [
    "import pandas as pd\n",
    "import numpy as np\n",
    "import json\n",
    "import matplotlib.pyplot as plt\n",
    "from sklearn import linear_model\n",
    "from sklearn.model_selection import train_test_split\n",
    "from sklearn.neural_network import MLPClassifier"
   ]
  },
  {
   "cell_type": "code",
   "execution_count": 8,
   "metadata": {},
   "outputs": [],
   "source": [
    "# Hàm phụ trợ tính độ lỗi.\n",
    "\n",
    "def compute_mse(y, preds):\n",
    "    return ((y-preds)**2).mean()\n",
    "def compute_rr(y,preds,train_y):\n",
    "    baseline = train_y.mean()\n",
    "    return 1 - compute_mse(y,preds) / compute_mse(y, baseline)"
   ]
  },
  {
   "cell_type": "markdown",
   "metadata": {},
   "source": [
    "### Đọc dữ liệu lên xử lý"
   ]
  },
  {
   "cell_type": "code",
   "execution_count": 9,
   "metadata": {},
   "outputs": [
    {
     "name": "stdout",
     "output_type": "stream",
     "text": [
      "<class 'pandas.core.frame.DataFrame'>\n",
      "RangeIndex: 5801 entries, 0 to 5800\n",
      "Data columns (total 74 columns):\n",
      " #   Column                                   Non-Null Count  Dtype  \n",
      "---  ------                                   --------------  -----  \n",
      " 0   website_id                               5801 non-null   object \n",
      " 1   website                                  5801 non-null   object \n",
      " 2   url                                      5801 non-null   object \n",
      " 3   full_name                                5801 non-null   object \n",
      " 4   phone                                    2435 non-null   object \n",
      " 5   district                                 5801 non-null   object \n",
      " 6   rate                                     5801 non-null   float64\n",
      " 7   rate_count                               5801 non-null   float64\n",
      " 8   favorite                                 3927 non-null   float64\n",
      " 9   active_time                              5801 non-null   object \n",
      " 10  price_from                               5801 non-null   float64\n",
      " 11  price_to                                 5801 non-null   float64\n",
      " 12  other_service                            4901 non-null   object \n",
      " 13  monday_open                              5783 non-null   float64\n",
      " 14  monday_close                             5783 non-null   float64\n",
      " 15  tuesday_open                             5787 non-null   float64\n",
      " 16  tuesday_close                            5787 non-null   float64\n",
      " 17  wednesday_open                           5787 non-null   float64\n",
      " 18  wednesday_close                          5787 non-null   float64\n",
      " 19  thursday_open                            5785 non-null   float64\n",
      " 20  thursday_close                           5785 non-null   float64\n",
      " 21  friday_open                              5786 non-null   float64\n",
      " 22  friday_close                             5786 non-null   float64\n",
      " 23  saturday_open                            5783 non-null   float64\n",
      " 24  saturday_close                           5783 non-null   float64\n",
      " 25  sunday_open                              5761 non-null   float64\n",
      " 26  sunday_close                             5761 non-null   float64\n",
      " 27  s_cho mua về                             5801 non-null   bool   \n",
      " 28  s_có bàn ngoài trời                      5801 non-null   bool   \n",
      " 29  s_có chiếu bóng đá                       5801 non-null   bool   \n",
      " 30  s_có chỗ chơi cho trẻ em                 5801 non-null   bool   \n",
      " 31  s_có chỗ đậu ôtô                         5801 non-null   bool   \n",
      " 32  s_có giao hàng                           5801 non-null   bool   \n",
      " 33  s_có giao hàng\n",
      ":\n",
      "> 100k & quận 1       5801 non-null   bool   \n",
      " 34  s_có hồ bơi                              5801 non-null   bool   \n",
      " 35  s_có hỗ trợ hội thảo                     5801 non-null   bool   \n",
      " 36  s_có hỗ trợ người khuyết tật             5801 non-null   bool   \n",
      " 37  s_có karaoke                             5801 non-null   bool   \n",
      " 38  s_có khu vực hút thuốc                   5801 non-null   bool   \n",
      " 39  s_có lò sưởi                             5801 non-null   bool   \n",
      " 40  s_có máy lạnh & điều hòa                 5801 non-null   bool   \n",
      " 41  s_có nhạc sống                           5801 non-null   bool   \n",
      " 42  s_có phòng riêng                         5801 non-null   bool   \n",
      " 43  s_có thẻ thành viên                      5801 non-null   bool   \n",
      " 44  s_có thẻ thành viên\n",
      ":\n",
      "có bán vouchers  5801 non-null   bool   \n",
      " 45  s_có wifi                                5801 non-null   bool   \n",
      " 46  s_có xuất hóa đơn đỏ                     5801 non-null   bool   \n",
      " 47  s_có xuất hóa đơn đỏ\n",
      ":\n",
      "thẻ giảm giá    5801 non-null   bool   \n",
      " 48  s_dịch vụ tại chỗ                        5801 non-null   bool   \n",
      " 49  s_giao hàng                              5801 non-null   bool   \n",
      " 50  s_giao hàng gián tiếp                    5801 non-null   bool   \n",
      " 51  s_giữ xe máy miễn phí                    5801 non-null   bool   \n",
      " 52  s_giữ xe máy miễn phí\n",
      ":\n",
      "2 tiếng        5801 non-null   bool   \n",
      " 53  s_không có đồ ăn mang đi                 5801 non-null   bool   \n",
      " 54  s_không giao hàng                        5801 non-null   bool   \n",
      " 55  s_không ăn tại chỗ                       5801 non-null   bool   \n",
      " 56  s_mua hàng ngay trên xe                  5801 non-null   bool   \n",
      " 57  s_mua sắm tại cửa hàng                   5801 non-null   bool   \n",
      " 58  s_nhà hàng                               5801 non-null   bool   \n",
      " 59  s_nhận hàng ở lề đường                   5801 non-null   bool   \n",
      " 60  s_nhận tại cửa hàng                      5801 non-null   bool   \n",
      " 61  s_nên đặt trước                          5801 non-null   bool   \n",
      " 62  s_nên đặt trước\n",
      ":\n",
      "bắt buộc             5801 non-null   bool   \n",
      " 63  s_phòng gym                              5801 non-null   bool   \n",
      " 64  s_spa & massage                          5801 non-null   bool   \n",
      " 65  s_sân tennis                             5801 non-null   bool   \n",
      " 66  s_tip cho nhân viên                      5801 non-null   bool   \n",
      " 67  s_trả bằng thẻ                           5801 non-null   bool   \n",
      " 68  s_trả bằng thẻ\n",
      ":\n",
      "visa/master           5801 non-null   bool   \n",
      " 69  s_ăn tại chỗ                             5801 non-null   bool   \n",
      " 70  s_đặt lịch hẹn trực tuyến                5801 non-null   bool   \n",
      " 71  s_đồ ăn mang đi                          5801 non-null   bool   \n",
      " 72  s_đồ ăn tận phòng                        5801 non-null   bool   \n",
      " 73  numOfServices                            4901 non-null   object \n",
      "dtypes: bool(46), float64(19), object(9)\n",
      "memory usage: 1.5+ MB\n"
     ]
    },
    {
     "data": {
      "text/html": [
       "<div>\n",
       "<style scoped>\n",
       "    .dataframe tbody tr th:only-of-type {\n",
       "        vertical-align: middle;\n",
       "    }\n",
       "\n",
       "    .dataframe tbody tr th {\n",
       "        vertical-align: top;\n",
       "    }\n",
       "\n",
       "    .dataframe thead th {\n",
       "        text-align: right;\n",
       "    }\n",
       "</style>\n",
       "<table border=\"1\" class=\"dataframe\">\n",
       "  <thead>\n",
       "    <tr style=\"text-align: right;\">\n",
       "      <th></th>\n",
       "      <th>rate</th>\n",
       "      <th>rate_count</th>\n",
       "      <th>favorite</th>\n",
       "      <th>price_from</th>\n",
       "      <th>price_to</th>\n",
       "      <th>monday_open</th>\n",
       "      <th>monday_close</th>\n",
       "      <th>tuesday_open</th>\n",
       "      <th>tuesday_close</th>\n",
       "      <th>wednesday_open</th>\n",
       "      <th>wednesday_close</th>\n",
       "      <th>thursday_open</th>\n",
       "      <th>thursday_close</th>\n",
       "      <th>friday_open</th>\n",
       "      <th>friday_close</th>\n",
       "      <th>saturday_open</th>\n",
       "      <th>saturday_close</th>\n",
       "      <th>sunday_open</th>\n",
       "      <th>sunday_close</th>\n",
       "    </tr>\n",
       "  </thead>\n",
       "  <tbody>\n",
       "    <tr>\n",
       "      <th>count</th>\n",
       "      <td>5801.000000</td>\n",
       "      <td>5801.000000</td>\n",
       "      <td>3927.000000</td>\n",
       "      <td>5.801000e+03</td>\n",
       "      <td>5.801000e+03</td>\n",
       "      <td>5783.000000</td>\n",
       "      <td>5783.000000</td>\n",
       "      <td>5787.000000</td>\n",
       "      <td>5787.000000</td>\n",
       "      <td>5787.000000</td>\n",
       "      <td>5787.000000</td>\n",
       "      <td>5785.000000</td>\n",
       "      <td>5785.000000</td>\n",
       "      <td>5786.000000</td>\n",
       "      <td>5786.000000</td>\n",
       "      <td>5783.000000</td>\n",
       "      <td>5783.000000</td>\n",
       "      <td>5761.000000</td>\n",
       "      <td>5761.000000</td>\n",
       "    </tr>\n",
       "    <tr>\n",
       "      <th>mean</th>\n",
       "      <td>5.819203</td>\n",
       "      <td>62.664388</td>\n",
       "      <td>41.939649</td>\n",
       "      <td>5.825490e+04</td>\n",
       "      <td>4.733293e+05</td>\n",
       "      <td>8.453139</td>\n",
       "      <td>20.179587</td>\n",
       "      <td>8.464677</td>\n",
       "      <td>20.185260</td>\n",
       "      <td>8.474662</td>\n",
       "      <td>20.175917</td>\n",
       "      <td>8.474898</td>\n",
       "      <td>20.177148</td>\n",
       "      <td>8.468839</td>\n",
       "      <td>20.172834</td>\n",
       "      <td>8.438723</td>\n",
       "      <td>20.182227</td>\n",
       "      <td>8.405164</td>\n",
       "      <td>20.201892</td>\n",
       "    </tr>\n",
       "    <tr>\n",
       "      <th>std</th>\n",
       "      <td>3.676943</td>\n",
       "      <td>153.641717</td>\n",
       "      <td>163.079957</td>\n",
       "      <td>1.455547e+05</td>\n",
       "      <td>2.248216e+06</td>\n",
       "      <td>4.418259</td>\n",
       "      <td>5.221462</td>\n",
       "      <td>4.414098</td>\n",
       "      <td>5.207387</td>\n",
       "      <td>4.411955</td>\n",
       "      <td>5.215470</td>\n",
       "      <td>4.410622</td>\n",
       "      <td>5.215819</td>\n",
       "      <td>4.412386</td>\n",
       "      <td>5.225363</td>\n",
       "      <td>4.436966</td>\n",
       "      <td>5.233537</td>\n",
       "      <td>4.475502</td>\n",
       "      <td>5.247239</td>\n",
       "    </tr>\n",
       "    <tr>\n",
       "      <th>min</th>\n",
       "      <td>0.000000</td>\n",
       "      <td>0.000000</td>\n",
       "      <td>0.000000</td>\n",
       "      <td>0.000000e+00</td>\n",
       "      <td>0.000000e+00</td>\n",
       "      <td>0.000000</td>\n",
       "      <td>0.000000</td>\n",
       "      <td>0.000000</td>\n",
       "      <td>0.000000</td>\n",
       "      <td>0.000000</td>\n",
       "      <td>0.000000</td>\n",
       "      <td>0.000000</td>\n",
       "      <td>0.000000</td>\n",
       "      <td>0.000000</td>\n",
       "      <td>0.000000</td>\n",
       "      <td>0.000000</td>\n",
       "      <td>0.000000</td>\n",
       "      <td>0.000000</td>\n",
       "      <td>0.000000</td>\n",
       "    </tr>\n",
       "    <tr>\n",
       "      <th>25%</th>\n",
       "      <td>0.000000</td>\n",
       "      <td>0.000000</td>\n",
       "      <td>0.000000</td>\n",
       "      <td>0.000000e+00</td>\n",
       "      <td>0.000000e+00</td>\n",
       "      <td>6.500000</td>\n",
       "      <td>20.000000</td>\n",
       "      <td>7.000000</td>\n",
       "      <td>20.000000</td>\n",
       "      <td>7.000000</td>\n",
       "      <td>20.000000</td>\n",
       "      <td>7.000000</td>\n",
       "      <td>20.000000</td>\n",
       "      <td>7.000000</td>\n",
       "      <td>20.000000</td>\n",
       "      <td>6.500000</td>\n",
       "      <td>20.000000</td>\n",
       "      <td>6.500000</td>\n",
       "      <td>20.000000</td>\n",
       "    </tr>\n",
       "    <tr>\n",
       "      <th>50%</th>\n",
       "      <td>7.586000</td>\n",
       "      <td>3.000000</td>\n",
       "      <td>2.000000</td>\n",
       "      <td>2.000000e+04</td>\n",
       "      <td>1.000000e+05</td>\n",
       "      <td>9.000000</td>\n",
       "      <td>22.000000</td>\n",
       "      <td>9.000000</td>\n",
       "      <td>22.000000</td>\n",
       "      <td>9.000000</td>\n",
       "      <td>22.000000</td>\n",
       "      <td>9.000000</td>\n",
       "      <td>22.000000</td>\n",
       "      <td>9.000000</td>\n",
       "      <td>22.000000</td>\n",
       "      <td>9.000000</td>\n",
       "      <td>22.000000</td>\n",
       "      <td>9.000000</td>\n",
       "      <td>22.000000</td>\n",
       "    </tr>\n",
       "    <tr>\n",
       "      <th>75%</th>\n",
       "      <td>8.600000</td>\n",
       "      <td>32.000000</td>\n",
       "      <td>17.000000</td>\n",
       "      <td>5.500000e+04</td>\n",
       "      <td>3.000000e+05</td>\n",
       "      <td>10.000000</td>\n",
       "      <td>23.000000</td>\n",
       "      <td>10.000000</td>\n",
       "      <td>23.000000</td>\n",
       "      <td>10.000000</td>\n",
       "      <td>23.000000</td>\n",
       "      <td>10.000000</td>\n",
       "      <td>23.000000</td>\n",
       "      <td>10.000000</td>\n",
       "      <td>23.000000</td>\n",
       "      <td>10.000000</td>\n",
       "      <td>23.000000</td>\n",
       "      <td>10.000000</td>\n",
       "      <td>23.000000</td>\n",
       "    </tr>\n",
       "    <tr>\n",
       "      <th>max</th>\n",
       "      <td>10.000000</td>\n",
       "      <td>1000.000000</td>\n",
       "      <td>4746.000000</td>\n",
       "      <td>4.000000e+06</td>\n",
       "      <td>1.000000e+08</td>\n",
       "      <td>22.000000</td>\n",
       "      <td>23.983333</td>\n",
       "      <td>22.000000</td>\n",
       "      <td>23.983333</td>\n",
       "      <td>22.000000</td>\n",
       "      <td>23.983333</td>\n",
       "      <td>22.000000</td>\n",
       "      <td>23.983333</td>\n",
       "      <td>22.000000</td>\n",
       "      <td>23.983333</td>\n",
       "      <td>22.000000</td>\n",
       "      <td>23.983333</td>\n",
       "      <td>22.000000</td>\n",
       "      <td>23.983333</td>\n",
       "    </tr>\n",
       "  </tbody>\n",
       "</table>\n",
       "</div>"
      ],
      "text/plain": [
       "              rate   rate_count     favorite    price_from      price_to  \\\n",
       "count  5801.000000  5801.000000  3927.000000  5.801000e+03  5.801000e+03   \n",
       "mean      5.819203    62.664388    41.939649  5.825490e+04  4.733293e+05   \n",
       "std       3.676943   153.641717   163.079957  1.455547e+05  2.248216e+06   \n",
       "min       0.000000     0.000000     0.000000  0.000000e+00  0.000000e+00   \n",
       "25%       0.000000     0.000000     0.000000  0.000000e+00  0.000000e+00   \n",
       "50%       7.586000     3.000000     2.000000  2.000000e+04  1.000000e+05   \n",
       "75%       8.600000    32.000000    17.000000  5.500000e+04  3.000000e+05   \n",
       "max      10.000000  1000.000000  4746.000000  4.000000e+06  1.000000e+08   \n",
       "\n",
       "       monday_open  monday_close  tuesday_open  tuesday_close  wednesday_open  \\\n",
       "count  5783.000000   5783.000000   5787.000000    5787.000000     5787.000000   \n",
       "mean      8.453139     20.179587      8.464677      20.185260        8.474662   \n",
       "std       4.418259      5.221462      4.414098       5.207387        4.411955   \n",
       "min       0.000000      0.000000      0.000000       0.000000        0.000000   \n",
       "25%       6.500000     20.000000      7.000000      20.000000        7.000000   \n",
       "50%       9.000000     22.000000      9.000000      22.000000        9.000000   \n",
       "75%      10.000000     23.000000     10.000000      23.000000       10.000000   \n",
       "max      22.000000     23.983333     22.000000      23.983333       22.000000   \n",
       "\n",
       "       wednesday_close  thursday_open  thursday_close  friday_open  \\\n",
       "count      5787.000000    5785.000000     5785.000000  5786.000000   \n",
       "mean         20.175917       8.474898       20.177148     8.468839   \n",
       "std           5.215470       4.410622        5.215819     4.412386   \n",
       "min           0.000000       0.000000        0.000000     0.000000   \n",
       "25%          20.000000       7.000000       20.000000     7.000000   \n",
       "50%          22.000000       9.000000       22.000000     9.000000   \n",
       "75%          23.000000      10.000000       23.000000    10.000000   \n",
       "max          23.983333      22.000000       23.983333    22.000000   \n",
       "\n",
       "       friday_close  saturday_open  saturday_close  sunday_open  sunday_close  \n",
       "count   5786.000000    5783.000000     5783.000000  5761.000000   5761.000000  \n",
       "mean      20.172834       8.438723       20.182227     8.405164     20.201892  \n",
       "std        5.225363       4.436966        5.233537     4.475502      5.247239  \n",
       "min        0.000000       0.000000        0.000000     0.000000      0.000000  \n",
       "25%       20.000000       6.500000       20.000000     6.500000     20.000000  \n",
       "50%       22.000000       9.000000       22.000000     9.000000     22.000000  \n",
       "75%       23.000000      10.000000       23.000000    10.000000     23.000000  \n",
       "max       23.983333      22.000000       23.983333    22.000000     23.983333  "
      ]
     },
     "execution_count": 9,
     "metadata": {},
     "output_type": "execute_result"
    }
   ],
   "source": [
    "DATA = pd.read_csv(\"data_reformat.csv\")\n",
    "\n",
    "# Bổ sung thêm cột số lượng dịch vụ\n",
    "def getNumOfServices(x):\n",
    "    try:\n",
    "        return len(json.loads(x.replace(\"'\",'\"')))\n",
    "    except:\n",
    "        pass\n",
    "    return pd.NA\n",
    "DATA[\"numOfServices\"] = DATA[\"other_service\"].apply(getNumOfServices)\n",
    "\n",
    "# Xem sơ qua dữ liệu\n",
    "DATA.info()\n",
    "# Thống kê cơ bản\n",
    "DATA.describe()"
   ]
  },
  {
   "cell_type": "markdown",
   "metadata": {},
   "source": [
    "### Học máy"
   ]
  },
  {
   "cell_type": "markdown",
   "metadata": {},
   "source": [
    "#### Bài toán 1: Giả sử chúng ta cần tìm hiểu xem liệu rằng những quán ăn được mọi người đánh giá nhiều thì số lượng yêu thích của quán sẽ ra sao, liệu có theo 1 giả định nào đó không?\n",
    "\n",
    "- Các dữ liệu liên quan là : `rate_count` và `favorite`(output)\n",
    "- Vì 2 loại dữ liệu đều là giá trị liên tục nên chúng ta áp dụng mô hình học máy `linear regression` để kiểm tra tính tương quan là hợp lý."
   ]
  },
  {
   "cell_type": "code",
   "execution_count": 117,
   "metadata": {},
   "outputs": [
    {
     "name": "stdout",
     "output_type": "stream",
     "text": [
      "Số lượng mẫu data hiện có: 3927\n",
      "\n"
     ]
    }
   ],
   "source": [
    "# Tiền xử lý xóa bỏ những giá trị NAN trong 2 cột rate_count và favorite\n",
    "\n",
    "tmp = DATA.dropna(subset=[\"rate_count\",\"favorite\"])\n",
    "print(\"Số lượng mẫu data hiện có:\", tmp.shape[0])\n",
    "print()\n",
    "\n",
    "# Chuẩn bị dữ liệu\n",
    "# Chia bộ dữ liệu làm 2 phần là train và test trong đó test chiếm 20% và train 80%\n",
    "# Với cách phân chia này phù hợp với lượng data hiện có là 3927 , testset sẽ sấp sĩ 785 mẫu"
   ]
  },
  {
   "cell_type": "code",
   "execution_count": 118,
   "metadata": {},
   "outputs": [
    {
     "name": "stdout",
     "output_type": "stream",
     "text": [
      "Tham số mô hình:\n",
      "[1.66050653]\n",
      "3.351534588749466\n",
      "\n",
      "Độ lỗi trên tập train:\n",
      "Độ lỗi MSE: 10842.265197649605\n",
      "Độ lỗi R^2: 0.6108484194870373\n",
      "Độ lỗi trên tập test:\n",
      "Độ lỗi MSE: 4620.229083019934\n",
      "Độ lỗi R^2: 0.7851198506885622\n",
      "\n"
     ]
    },
    {
     "name": "stderr",
     "output_type": "stream",
     "text": [
      "C:\\Users\\thafnhlong\\AppData\\Local\\Programs\\Python\\Python39\\lib\\site-packages\\sklearn\\base.py:441: UserWarning: X does not have valid feature names, but LinearRegression was fitted with feature names\n",
      "  warnings.warn(\n"
     ]
    },
    {
     "data": {
      "image/png": "[encoded data removed]",
      "text/plain": [
       "<Figure size 432x288 with 1 Axes>"
      ]
     },
     "metadata": {
      "needs_background": "light"
     },
     "output_type": "display_data"
    }
   ],
   "source": [
    "# Thực hiện huấn luyện\n",
    "\n",
    "# Khởi tạo mô hình\n",
    "model1 = linear_model.LinearRegression()\n",
    "\n",
    "# Chia tập dữ liệu\n",
    "X = tmp[[\"rate_count\"]]\n",
    "y = tmp[\"favorite\"]\n",
    "train_X, test_X, train_y, test_y = train_test_split(X,y,test_size=0.2)\n",
    "\n",
    "# Fit mô hình vào dữ liệu\n",
    "model1.fit(train_X,train_y)\n",
    "\n",
    "# Xem các tham số mô hình\n",
    "print(\"Tham số mô hình:\")\n",
    "print(model1.coef_) #w_1...\n",
    "print(model1.intercept_) #w_0\n",
    "print()\n",
    "\n",
    "# Trực quan mô hình \n",
    "plt.scatter(x=train_X,y=train_y)\n",
    "plt.xlabel(\"rate_count\")\n",
    "plt.ylabel(\"favorite\")\n",
    "min_x, max_x = plt.xlim()\n",
    "plt.plot([min_x,max_x],model1.predict(np.array([[min_x],[max_x]])), color=\"red\")\n",
    "plt.title(\"Trực quan\")\n",
    "\n",
    "# Kiểm tra độ đo lỗi\n",
    "print(\"Độ lỗi trên tập train:\")\n",
    "print(\"Độ lỗi MSE:\", compute_mse(train_y,model1.predict(train_X)))\n",
    "print(\"Độ lỗi R^2:\", compute_rr(train_y,model1.predict(train_X),train_y))\n",
    "print(\"Độ lỗi trên tập test:\")\n",
    "print(\"Độ lỗi MSE:\", compute_mse(test_y,model1.predict(test_X)))\n",
    "print(\"Độ lỗi R^2:\", compute_rr(test_y,model1.predict(test_X),train_y))\n",
    "print()"
   ]
  },
  {
   "cell_type": "code",
   "execution_count": 119,
   "metadata": {},
   "outputs": [
    {
     "name": "stdout",
     "output_type": "stream",
     "text": [
      "Độ lỗi trên tập train:\n",
      "Độ lỗi MSE: 10717.638457176581\n",
      "Độ lỗi R^2: 0.6177538186008218\n",
      "Độ lỗi trên tập test:\n",
      "Độ lỗi MSE: 5118.26037033007\n",
      "Độ lỗi R^2: 0.7538502765821988\n",
      "\n"
     ]
    },
    {
     "name": "stderr",
     "output_type": "stream",
     "text": [
      "C:\\Users\\thafnhlong\\AppData\\Local\\Programs\\Python\\Python39\\lib\\site-packages\\sklearn\\base.py:441: UserWarning: X does not have valid feature names, but LinearRegression was fitted with feature names\n",
      "  warnings.warn(\n"
     ]
    },
    {
     "data": {
      "image/png": "[encoded data removed]",
      "text/plain": [
       "<Figure size 432x288 with 1 Axes>"
      ]
     },
     "metadata": {
      "needs_background": "light"
     },
     "output_type": "display_data"
    }
   ],
   "source": [
    "# Thử lai 1 lần nữa xem sự ảnh hưởng có thực sự lớn khi sử dụng cách chia training / test sets 80:20 hay không!\n",
    "model2 = linear_model.LinearRegression()\n",
    "train_X, test_X, train_y, test_y = train_test_split(X,y,test_size=0.2)\n",
    "model2.fit(train_X,train_y)\n",
    "\n",
    "# Trực quan mô hình \n",
    "plt.scatter(x=train_X,y=train_y)\n",
    "plt.xlabel(\"rate_count\")\n",
    "plt.ylabel(\"favorite\")\n",
    "min_x, max_x = plt.xlim()\n",
    "plt.plot([min_x,max_x],model1.predict(np.array([[min_x],[max_x]])), color=\"red\")\n",
    "plt.title(\"Trực quan\")\n",
    "\n",
    "print(\"Độ lỗi trên tập train:\")\n",
    "print(\"Độ lỗi MSE:\", compute_mse(train_y,model1.predict(train_X)))\n",
    "print(\"Độ lỗi R^2:\", compute_rr(train_y,model1.predict(train_X),train_y))\n",
    "print(\"Độ lỗi trên tập test:\")\n",
    "print(\"Độ lỗi MSE:\", compute_mse(test_y,model1.predict(test_X)))\n",
    "print(\"Độ lỗi R^2:\", compute_rr(test_y,model1.predict(test_X),train_y))\n",
    "print()"
   ]
  },
  {
   "cell_type": "markdown",
   "metadata": {},
   "source": [
    "Nhận xét:\n",
    "- Sau khi trải qua 2 model với cách chia 80:20 thì kết quả không thay đổi quá nhiều ( qua hình ảnh trực quan của hàm tuyến tính )\n",
    "- Độ lỗi của R bình phương cho thấy có giá trị có thay đổi nhỏ, không lớn lắm\n",
    "\n",
    "Điều đó chứng tỏ rằng kết quả không phụ thuộc quả nhiều vào cách chia bộ dữ liệu training set và test set."
   ]
  },
  {
   "cell_type": "markdown",
   "metadata": {},
   "source": [
    "Kết luận:\n",
    "- Có thể thấy độ lỗi MSE của cả 2 mô hình có giá trị lớn đó cũng là do 1 phần outlier gây ra , việc thu thập dữ liệu không thể tránh khỏi\n",
    "- Dựa vào hàm tuyến tính đã xác định được qua model thì ta có thể thấy rằng `favorite` tương quan với `rate_count` theo quan hệ đồng biến.\n",
    "- Vậy mô hình đã giải quyết được bài toán mà chúng ta đã đề ra ban đầu"
   ]
  },
  {
   "cell_type": "markdown",
   "metadata": {},
   "source": [
    "#### Bài toán 2: Giả sử chúng ta cần tìm hiểu xem liệu rằng những quán ăn có hỗ trợ dịch vụ: \"nên đặt trước\" thì giá cả sẽ ra sao, liệu có theo 1 giả định nào đó không?\n",
    "\n",
    "- Các dữ liệu liên quan là : `price_from`, `price_to`, `s_nên đặt trước`(output)\n",
    "- Ouput của bài toán là rời rạc: true/false \n",
    "- Vì 2 loại dữ liệu input đều là giá trị liên tục nên chúng ta không phải chuyển sang dạng định lượng nữa, và ouput là rời rạc dạng nhóm nên áp dụng mô hình học máy `logistic regression` để kiểm tra tính tương quan là hợp lý."
   ]
  },
  {
   "cell_type": "code",
   "execution_count": 120,
   "metadata": {},
   "outputs": [
    {
     "name": "stdout",
     "output_type": "stream",
     "text": [
      "Số lượng mẫu data hiện có: 4901\n",
      "\n"
     ]
    }
   ],
   "source": [
    "# Tiền xử lý\n",
    "\n",
    "# Ta phải loại bỏ data của website: \"ShopeeFood\" vì nó không chứa bất kỳ dịch vụ nào để tránh nhiễu.\n",
    "tmp = DATA[DATA[\"website\"]!=\"ShopeeFood\"]\n",
    "\n",
    "print(\"Số lượng mẫu data hiện có:\", tmp.shape[0])\n",
    "print()\n",
    "\n",
    "# Chuẩn bị dữ liệu\n",
    "# Chia bộ dữ liệu làm 2 phần là train và test trong đó test chiếm 20% và train 80%\n",
    "# Với cách phân chia này phù hợp với lượng data hiện có là 4901 , testset sẽ sấp xỉ 980 mẫu"
   ]
  },
  {
   "cell_type": "code",
   "execution_count": 123,
   "metadata": {},
   "outputs": [
    {
     "name": "stdout",
     "output_type": "stream",
     "text": [
      "Tham số mô hình:\n",
      "[[-1.09441743e-06  4.98709446e-09]]\n",
      "[-1.5333935e-10]\n",
      "\n",
      "Độ lỗi trên tập train:\n",
      "Phần trăm phân lớp sai: 0.15510204081632653\n",
      "Độ lỗi trên tập test:\n",
      "Phần trăm phân lớp sai: 0.13761467889908258\n",
      "\n"
     ]
    },
    {
     "data": {
      "image/png": "[encoded data removed]",
      "text/plain": [
       "<Figure size 720x720 with 2 Axes>"
      ]
     },
     "metadata": {
      "needs_background": "light"
     },
     "output_type": "display_data"
    }
   ],
   "source": [
    "# Thực hiện huấn luyện\n",
    "\n",
    "# Khởi tạo mô hình\n",
    "model1 = linear_model.LogisticRegression()\n",
    "\n",
    "# Chia tập dữ liệu\n",
    "X = tmp[[\"price_from\",\"price_to\"]]\n",
    "y = tmp[\"s_nên đặt trước\"]\n",
    "train_X, test_X, train_y, test_y = train_test_split(X,y,test_size=0.2)\n",
    "\n",
    "# Fit mô hình vào dữ liệu\n",
    "model1.fit(train_X,train_y)\n",
    "\n",
    "# Xem các tham số mô hình\n",
    "print(\"Tham số mô hình:\")\n",
    "print(model1.coef_) #w_1...\n",
    "print(model1.intercept_) #w_0\n",
    "print()\n",
    "\n",
    "# Trực quan quan hệ \n",
    "plt.figure(figsize=(10,10))\n",
    "plt.scatter(train_X[\"price_from\"],train_X[\"price_to\"],c=train_y)\n",
    "plt.colorbar(ticks=[0,1],label=\"s_nên đặt trước\")\n",
    "plt.xlabel(\"price_from\")\n",
    "plt.ylabel(\"price_to\")\n",
    "plt.title(\"Trực quan\")\n",
    "\n",
    "# Kiểm tra độ đo lỗi\n",
    "print(\"Độ lỗi trên tập train:\")\n",
    "print(\"Phần trăm phân lớp sai:\", np.mean(train_y != model1.predict(train_X)))\n",
    "print(\"Độ lỗi trên tập test:\")\n",
    "print(\"Phần trăm phân lớp sai:\", np.mean(test_y != model1.predict(test_X)))\n",
    "print()"
   ]
  },
  {
   "cell_type": "code",
   "execution_count": 124,
   "metadata": {},
   "outputs": [
    {
     "name": "stdout",
     "output_type": "stream",
     "text": [
      "Độ lỗi trên tập train:\n",
      "Phần trăm phân lớp sai: 0.15637755102040815\n",
      "Độ lỗi trên tập test:\n",
      "Phần trăm phân lớp sai: 0.13557594291539246\n",
      "\n"
     ]
    }
   ],
   "source": [
    "# Thử lai 1 lần nữa xem sự ảnh hưởng có thực sự lớn khi sử dụng cách chia training / test sets 80:20 hay không!\n",
    "model2 = linear_model.LogisticRegression()\n",
    "train_X, test_X, train_y, test_y = train_test_split(X,y,test_size=0.2)\n",
    "model2.fit(train_X,train_y)\n",
    "\n",
    "# Kiểm tra độ đo lỗi\n",
    "print(\"Độ lỗi trên tập train:\")\n",
    "print(\"Phần trăm phân lớp sai:\", np.mean(train_y != model2.predict(train_X)))\n",
    "print(\"Độ lỗi trên tập test:\")\n",
    "print(\"Phần trăm phân lớp sai:\", np.mean(test_y != model2.predict(test_X)))\n",
    "print()"
   ]
  },
  {
   "cell_type": "markdown",
   "metadata": {},
   "source": [
    "Nhận xét:\n",
    "- Sau khi trải qua 2 model với cách chia 80:20 thì kết quả không thay đổi quá nhiều\n",
    "- Độ lỗi Phần trăm phân lớp sai cho thấy có giá trị có thay đổi nhỏ, không lớn lắm\n",
    "\n",
    "Điều đó chứng tỏ rằng kết quả không phụ thuộc quả nhiều vào cách chia bộ dữ liệu training set và test set."
   ]
  },
  {
   "cell_type": "markdown",
   "metadata": {},
   "source": [
    "Kết luận:\n",
    "- Có thể thấy độ lỗi phân lớp cả 2 mô hình có giá trị khá nhỏ đó cũng là một dấu hiệu tốt cho thấy việc học máy hiệu quả với phương pháp logistic regression.\n",
    "- Dựa vào tham số đã xác định được qua model thì ta có thể thấy rằng với `price_from` và `price_to` có thể xác đinh được phân lớp dịch vụ `nên đặt trước` (True/False).\n",
    "- Vậy mô hình đã giải quyết được bài toán mà chúng ta đã đề ra ban đầu"
   ]
  },
  {
   "cell_type": "markdown",
   "metadata": {},
   "source": [
    "Mở rộng bài toán qua phương pháp học máy Neural Network"
   ]
  },
  {
   "cell_type": "code",
   "execution_count": 125,
   "metadata": {},
   "outputs": [
    {
     "name": "stdout",
     "output_type": "stream",
     "text": [
      "Độ lỗi trên tập train:\n",
      "Phần trăm phân lớp sai: 0.15306122448979592\n",
      "Độ lỗi trên tập test:\n",
      "Phần trăm phân lớp sai: 0.1437308868501529\n",
      "\n"
     ]
    }
   ],
   "source": [
    "# Tạo mạng neural network với các tham số :\n",
    "# 1 tầng ẩn gồm 3 noron, hàm kích hoạt: tanh\n",
    "# Thuật toán cực tiểu hóa: LBFGS, số vòng lặp tối đa: 1000\n",
    "neural_net_model = MLPClassifier(hidden_layer_sizes=(3),activation=\"tanh\",\n",
    "                                solver=\"lbfgs\", max_iter=1000,random_state=0)\n",
    "\n",
    "# Fit mô hình vào tập huấn luyện\n",
    "train_X, test_X, train_y, test_y = train_test_split(X,y,test_size=0.2)\n",
    "neural_net_model.fit(train_X,train_y)\n",
    "\n",
    "# Kiểm tra độ đo lỗi\n",
    "print(\"Độ lỗi trên tập train:\")\n",
    "print(\"Phần trăm phân lớp sai:\", np.mean(train_y != neural_net_model.predict(train_X)))\n",
    "print(\"Độ lỗi trên tập test:\")\n",
    "print(\"Phần trăm phân lớp sai:\", np.mean(test_y != neural_net_model.predict(test_X)))\n",
    "print()"
   ]
  },
  {
   "cell_type": "markdown",
   "metadata": {},
   "source": [
    "Tăng kích thước hiddenlayer và số tầng"
   ]
  },
  {
   "cell_type": "code",
   "execution_count": 128,
   "metadata": {},
   "outputs": [
    {
     "name": "stdout",
     "output_type": "stream",
     "text": [
      "Độ lỗi trên tập train:\n",
      "Phần trăm phân lớp sai: 0.15076530612244898\n",
      "Độ lỗi trên tập test:\n",
      "Phần trăm phân lớp sai: 0.15392456676860347\n",
      "\n"
     ]
    }
   ],
   "source": [
    "# Tạo mạng neural network với các tham số :\n",
    "# Hàm kích hoạt: logistic\n",
    "# Tầng ẩn 1: gồm 30 noron\n",
    "# Tầng ẩn 2: gồm 15 noron\n",
    "# Thuật toán cực tiểu hóa: LBFGS, số vòng lặp tối đa: 1000\n",
    "neural_net_model2 = MLPClassifier(hidden_layer_sizes=(30,15),activation=\"logistic\",\n",
    "                                solver=\"lbfgs\", max_iter=1000,random_state=0)\n",
    "\n",
    "# Fit mô hình vào tập huấn luyện\n",
    "train_X, test_X, train_y, test_y = train_test_split(X,y,test_size=0.2)\n",
    "neural_net_model2.fit(train_X,train_y)\n",
    "\n",
    "# Kiểm tra độ đo lỗi\n",
    "print(\"Độ lỗi trên tập train:\")\n",
    "print(\"Phần trăm phân lớp sai:\", np.mean(train_y != neural_net_model2.predict(train_X)))\n",
    "print(\"Độ lỗi trên tập test:\")\n",
    "print(\"Phần trăm phân lớp sai:\", np.mean(test_y != neural_net_model2.predict(test_X)))\n",
    "print()"
   ]
  },
  {
   "cell_type": "markdown",
   "metadata": {},
   "source": [
    "Nhận xét:\n",
    "- Qua 2 mô hình neural network thì kết quả về độ lỗi phân lớp khá giống nhau.\n",
    "- Tùy vào hidden_layer_sizes thì thời gian chạy huấn luyện sẽ khác nhau, tuy nhiên độ lỗi cũng không được cải thiện nhiều."
   ]
  },
  {
   "cell_type": "markdown",
   "metadata": {},
   "source": [
    "#### Bài toán 3: Giả sử chúng ta cần tìm hiểu xem liệu rằng những quán ăn có hỗ trợ nhiều dịch vụ, hay số lượng yêu thích, hay số lượng đánh giá thì ảnh hướng tới RATE quán sẽ ra sao, liệu có theo 1 giả định nào đó không?\n",
    "\n",
    "- Các dữ liệu liên quan là : `numOfServices`, `rate_count`, `favorite`, `rate`(output)\n",
    "- Ouput của bài toán là giá trị rời rạc [\"BAD\",\"NORMAL\",\"GOOD\"]\n",
    "- Vì các loại dữ liệu input đều là giá trị liên tục nên chúng ta không phải chuyển sang dạng định lượng nữa, output là dạng rời rạc nhóm > 2 nên áp dụng mô hình học máy `softmax regression` để kiểm tra tính tương quan là hợp lý.\n",
    "\n",
    "- Chúng ta đi qua từng field để kiểm tra và tìm những field cho ra kết quả tốt nhất."
   ]
  },
  {
   "cell_type": "code",
   "execution_count": 84,
   "metadata": {},
   "outputs": [],
   "source": [
    "# Tiền xử lý\n",
    "tmp = DATA\n",
    "\n",
    "# Ta cần xử lý lại rating của quán về các giá trị rời rạc\n",
    "def discrite(value):\n",
    "    if value < 4:\n",
    "        return \"BAD\"\n",
    "    elif value < 8:\n",
    "        return \"NORMAL\"\n",
    "    return \"GOOD\"\n",
    "tmp[\"f_rate\"] = tmp[\"rate\"].apply(discrite)\n",
    "\n",
    "# Chuẩn bị dữ liệu\n",
    "# Chia bộ dữ liệu làm 2 phần là train và test trong đó test chiếm 20% và train 80%\n",
    "# Cách chia này sẽ ổn định cho các bản ghi > 1000 dòng. "
   ]
  },
  {
   "cell_type": "code",
   "execution_count": 141,
   "metadata": {},
   "outputs": [
    {
     "name": "stdout",
     "output_type": "stream",
     "text": [
      "Tham số mô hình:\n",
      "[[-1.00002967]\n",
      " [ 0.50147722]\n",
      " [ 0.49855245]]\n",
      "[ 0.93951333 -0.53978918 -0.39972415]\n",
      "\n",
      "Độ lỗi trên tập train:\n",
      "Phần trăm phân lớp sai: 0.40714285714285714\n",
      "Độ lỗi trên tập test:\n",
      "Phần trăm phân lớp sai: 0.417940876656473\n",
      "\n"
     ]
    },
    {
     "data": {
      "image/png": "[encoded data removed]",
      "text/plain": [
       "<Figure size 720x720 with 1 Axes>"
      ]
     },
     "metadata": {
      "needs_background": "light"
     },
     "output_type": "display_data"
    }
   ],
   "source": [
    "# FIELD : rate_count\n",
    "\n",
    "# Loại bỏ các record nan\n",
    "tmp1 = tmp.dropna(subset=[\"rate_count\"])\n",
    "X = tmp1[[\"rate_count\"]]\n",
    "y = tmp1[\"f_rate\"]\n",
    "\n",
    "# Chia 80:20\n",
    "train_X, test_X, train_y, test_y = train_test_split(X,y,test_size=0.2)\n",
    "\n",
    "# Tạo model logistic đa lớp với thuật toán cực tiểu hóa: lbfgs, lặp 1e4\n",
    "model1 = linear_model.LogisticRegression(multi_class=\"multinomial\", solver=\"lbfgs\", max_iter=1e4)\n",
    "model1.fit(train_X,train_y)\n",
    "\n",
    "# Xem các tham số mô hình\n",
    "print(\"Tham số mô hình:\")\n",
    "print(model1.coef_) #w_1...\n",
    "print(model1.intercept_) #w_0\n",
    "print()\n",
    "\n",
    "# Xem trực quan dữ liệu\n",
    "plt.figure(figsize=(10,10))\n",
    "plt.scatter(train_X[\"rate_count\"],train_y)\n",
    "plt.xlabel(\"rate_count\")\n",
    "plt.ylabel(\"rate\")\n",
    "plt.title(\"Trực quan\")\n",
    "\n",
    "# Kiểm tra độ đo lỗi\n",
    "print(\"Độ lỗi trên tập train:\")\n",
    "print(\"Phần trăm phân lớp sai:\", np.mean(train_y != model1.predict(train_X)))\n",
    "print(\"Độ lỗi trên tập test:\")\n",
    "print(\"Phần trăm phân lớp sai:\", np.mean(test_y != model1.predict(test_X)))\n",
    "print()"
   ]
  },
  {
   "cell_type": "markdown",
   "metadata": {},
   "source": [
    "Nhận xét: \n",
    "- Độ lỗi của mô hình khá cao, nhưng trong khoảng chấp nhận được, ít ra vẫn tốt hơn là baseline\n",
    "- Việc chia training và test set không ảnh hưởng quá nhiều tới kết quả"
   ]
  },
  {
   "cell_type": "code",
   "execution_count": 144,
   "metadata": {},
   "outputs": [
    {
     "name": "stdout",
     "output_type": "stream",
     "text": [
      "Tham số mô hình:\n",
      "[[-0.42919616]\n",
      " [ 0.21003039]\n",
      " [ 0.21916577]]\n",
      "[ 0.97849641 -0.62528288 -0.35321353]\n",
      "\n",
      "Độ lỗi trên tập train:\n",
      "Phần trăm phân lớp sai: 0.37835605121850474\n",
      "Độ lỗi trên tập test:\n",
      "Phần trăm phân lớp sai: 0.3811881188118812\n",
      "\n"
     ]
    },
    {
     "data": {
      "image/png": "[encoded data removed]",
      "text/plain": [
       "<Figure size 720x720 with 1 Axes>"
      ]
     },
     "metadata": {
      "needs_background": "light"
     },
     "output_type": "display_data"
    }
   ],
   "source": [
    "# FIELD : favorite\n",
    "\n",
    "# Loại bỏ các record nan\n",
    "tmp1 = tmp.dropna(subset=[\"favorite\"])\n",
    "X = tmp1[[\"favorite\"]]\n",
    "y = tmp1[\"f_rate\"]\n",
    "\n",
    "# Chia 80:20\n",
    "train_X, test_X, train_y, test_y = train_test_split(X,y,test_size=0.2)\n",
    "\n",
    "# Tạo model logistic đa lớp với thuật toán cực tiểu hóa: lbfgs, lặp 1e4\n",
    "model2 = linear_model.LogisticRegression(multi_class=\"multinomial\", solver=\"lbfgs\", max_iter=1e4)\n",
    "model2.fit(train_X,train_y)\n",
    "\n",
    "# Xem các tham số mô hình\n",
    "print(\"Tham số mô hình:\")\n",
    "print(model2.coef_) #w_1...\n",
    "print(model2.intercept_) #w_0\n",
    "print()\n",
    "\n",
    "# Xem trực quan dữ liệu\n",
    "plt.figure(figsize=(10,10))\n",
    "plt.scatter(train_X[\"favorite\"],train_y)\n",
    "plt.xlabel(\"favorite\")\n",
    "plt.ylabel(\"rate\")\n",
    "plt.title(\"Trực quan\")\n",
    "\n",
    "# Kiểm tra độ đo lỗi\n",
    "print(\"Độ lỗi trên tập train:\")\n",
    "print(\"Phần trăm phân lớp sai:\", np.mean(train_y != model2.predict(train_X)))\n",
    "print(\"Độ lỗi trên tập test:\")\n",
    "print(\"Phần trăm phân lớp sai:\", np.mean(test_y != model2.predict(test_X)))\n",
    "print()"
   ]
  },
  {
   "cell_type": "markdown",
   "metadata": {},
   "source": [
    "Nhận xét: \n",
    "- Độ lỗi của mô hình không cao lắm, tuy nhiên vẫn rất khó xác định được phân lớp của ouput\n",
    "- Việc chia training và test set không ảnh hưởng quá nhiều tới kết quả"
   ]
  },
  {
   "cell_type": "code",
   "execution_count": 145,
   "metadata": {},
   "outputs": [
    {
     "name": "stdout",
     "output_type": "stream",
     "text": [
      "Tham số mô hình:\n",
      "[[ 0.03178305]\n",
      " [-0.02795663]\n",
      " [-0.00382642]]\n",
      "[-0.39826035  0.27248163  0.12577872]\n",
      "\n",
      "Độ lỗi trên tập train:\n",
      "Phần trăm phân lớp sai: 0.5880102040816326\n",
      "Độ lỗi trên tập test:\n",
      "Phần trăm phân lớp sai: 0.5749235474006116\n",
      "\n"
     ]
    },
    {
     "data": {
      "image/png": "[encoded data removed]",
      "text/plain": [
       "<Figure size 720x720 with 1 Axes>"
      ]
     },
     "metadata": {
      "needs_background": "light"
     },
     "output_type": "display_data"
    }
   ],
   "source": [
    "# FIELD : numOfServices\n",
    "\n",
    "# Loại bỏ các record nan\n",
    "tmp1 = tmp.dropna(subset=[\"numOfServices\"])\n",
    "X = tmp1[[\"numOfServices\"]]\n",
    "y = tmp1[\"f_rate\"]\n",
    "\n",
    "# Chia 80:20\n",
    "train_X, test_X, train_y, test_y = train_test_split(X,y,test_size=0.2)\n",
    "\n",
    "# Tạo model logistic đa lớp với thuật toán cực tiểu hóa: lbfgs, lặp 1e4\n",
    "model2 = linear_model.LogisticRegression(multi_class=\"multinomial\", solver=\"lbfgs\", max_iter=1e4)\n",
    "model2.fit(train_X,train_y)\n",
    "\n",
    "# Xem các tham số mô hình\n",
    "print(\"Tham số mô hình:\")\n",
    "print(model2.coef_) #w_1...\n",
    "print(model2.intercept_) #w_0\n",
    "print()\n",
    "\n",
    "# Xem trực quan dữ liệu\n",
    "plt.figure(figsize=(10,10))\n",
    "plt.scatter(train_X[\"numOfServices\"],train_y)\n",
    "plt.xlabel(\"numOfServices\")\n",
    "plt.ylabel(\"rate\")\n",
    "plt.title(\"Trực quan\")\n",
    "\n",
    "# Kiểm tra độ đo lỗi\n",
    "print(\"Độ lỗi trên tập train:\")\n",
    "print(\"Phần trăm phân lớp sai:\", np.mean(train_y != model2.predict(train_X)))\n",
    "print(\"Độ lỗi trên tập test:\")\n",
    "print(\"Phần trăm phân lớp sai:\", np.mean(test_y != model2.predict(test_X)))\n",
    "print()"
   ]
  },
  {
   "cell_type": "markdown",
   "metadata": {},
   "source": [
    "Nhận xét: \n",
    "- Độ lỗi của mô hình cao hơn cả baseline, không khả quan khi áp dụng\n",
    "- Việc chia training và test set không ảnh hưởng quá nhiều tới kết quả"
   ]
  },
  {
   "cell_type": "markdown",
   "metadata": {},
   "source": [
    "Ta xem xét đến việc kết hợp 2 fields có chất lượng tốt lại với nhau để kiểm tra kết quả mới"
   ]
  },
  {
   "cell_type": "code",
   "execution_count": 146,
   "metadata": {},
   "outputs": [
    {
     "name": "stdout",
     "output_type": "stream",
     "text": [
      "Tham số mô hình:\n",
      "[[-1.36986532 -0.13450414]\n",
      " [ 0.67726014  0.06722196]\n",
      " [ 0.69260517  0.06728218]]\n",
      "[ 1.74316217 -0.9822492  -0.76091297]\n",
      "\n",
      "Độ lỗi trên tập train:\n",
      "Phần trăm phân lớp sai: 0.31268071045022716\n",
      "Độ lỗi trên tập test:\n",
      "Phần trăm phân lớp sai: 0.31518151815181517\n",
      "\n"
     ]
    }
   ],
   "source": [
    "# FIELD : rate_count, favorite\n",
    "\n",
    "# Loại bỏ các record nan\n",
    "tmp1 = tmp.dropna(subset=[\"rate_count\",\"favorite\"])\n",
    "X = tmp1[[\"rate_count\",\"favorite\"]]\n",
    "y = tmp1[\"f_rate\"]\n",
    "\n",
    "# Chia 80:20\n",
    "train_X, test_X, train_y, test_y = train_test_split(X,y,test_size=0.2)\n",
    "\n",
    "# Tạo model\n",
    "model2 = linear_model.LogisticRegression(multi_class=\"multinomial\", solver=\"lbfgs\", max_iter=1e4)\n",
    "model2.fit(train_X,train_y)\n",
    "\n",
    "# Xem các tham số mô hình\n",
    "print(\"Tham số mô hình:\")\n",
    "print(model2.coef_) #w_1...\n",
    "print(model2.intercept_) #w_0\n",
    "print()\n",
    "\n",
    "# Kiểm tra độ đo lỗi\n",
    "print(\"Độ lỗi trên tập train:\")\n",
    "print(\"Phần trăm phân lớp sai:\", np.mean(train_y != model2.predict(train_X)))\n",
    "print(\"Độ lỗi trên tập test:\")\n",
    "print(\"Phần trăm phân lớp sai:\", np.mean(test_y != model2.predict(test_X)))\n",
    "print()"
   ]
  },
  {
   "cell_type": "markdown",
   "metadata": {},
   "source": [
    "Nhận xét: \n",
    "- Độ lỗi của mô hình có kết quả sấp xỉ với cả mô hình chỉ sử dụng 1 field\n",
    "- Việc chia training và test set không ảnh hưởng quá nhiều tới kết quả"
   ]
  },
  {
   "cell_type": "markdown",
   "metadata": {},
   "source": [
    "Ta thử kết hợp cả 3 fields lại với nhau để kiểm tra kết quả mới có cải thiện được gì không?"
   ]
  },
  {
   "cell_type": "code",
   "execution_count": 149,
   "metadata": {},
   "outputs": [
    {
     "name": "stdout",
     "output_type": "stream",
     "text": [
      "Tham số mô hình:\n",
      "[[-1.21933151 -0.13057601  0.0764095 ]\n",
      " [ 0.60187481  0.06468    -0.01356279]\n",
      " [ 0.6174567   0.065896   -0.06284671]]\n",
      "[ 1.49068526 -0.91545231 -0.57523295]\n",
      "\n",
      "Độ lỗi trên tập train:\n",
      "Phần trăm phân lớp sai: 0.31061544816191655\n",
      "Độ lỗi trên tập test:\n",
      "Phần trăm phân lớp sai: 0.297029702970297\n",
      "\n"
     ]
    }
   ],
   "source": [
    "# FIELD : rate_count, favorite, numOfServices\n",
    "\n",
    "# Loại bỏ các record nan\n",
    "tmp1 = tmp.dropna(subset=[\"rate_count\",\"favorite\",\"numOfServices\"])\n",
    "X = tmp1[[\"rate_count\",\"favorite\",\"numOfServices\"]]\n",
    "y = tmp1[\"f_rate\"]\n",
    "\n",
    "# Chia 80:20\n",
    "train_X, test_X, train_y, test_y = train_test_split(X,y,test_size=0.2)\n",
    "\n",
    "# Tạo model\n",
    "model2 = linear_model.LogisticRegression(multi_class=\"multinomial\", solver=\"lbfgs\", max_iter=1e4)\n",
    "model2.fit(train_X,train_y)\n",
    "\n",
    "# Xem các tham số mô hình\n",
    "print(\"Tham số mô hình:\")\n",
    "print(model2.coef_) #w_1...\n",
    "print(model2.intercept_) #w_0\n",
    "print()\n",
    "\n",
    "# # Xem trực quan dữ liệu\n",
    "# plt.figure(figsize=(10,10))\n",
    "# plt.scatter(train_X[\"numOfServices\"],train_y)\n",
    "# plt.xlabel(\"numOfServices\")\n",
    "# plt.ylabel(\"rate\")\n",
    "# plt.title(\"Trực quan\")\n",
    "\n",
    "# Kiểm tra độ đo lỗi\n",
    "print(\"Độ lỗi trên tập train:\")\n",
    "print(\"Phần trăm phân lớp sai:\", np.mean(train_y != model2.predict(train_X)))\n",
    "print(\"Độ lỗi trên tập test:\")\n",
    "print(\"Phần trăm phân lớp sai:\", np.mean(test_y != model2.predict(test_X)))\n",
    "print()"
   ]
  },
  {
   "cell_type": "markdown",
   "metadata": {},
   "source": [
    "Nhận xét: \n",
    "- Độ lỗi của mô hình có kết quả tốt hơn một chút với mô hình chỉ sử dụng 1 field và 2 field\n",
    "- Việc chia training và test set không ảnh hưởng quá nhiều tới kết quả"
   ]
  },
  {
   "cell_type": "markdown",
   "metadata": {},
   "source": [
    "Ta sử dụng thêm mạng neural để tối ưu hóa và học trên cả 3 fields"
   ]
  },
  {
   "cell_type": "code",
   "execution_count": 151,
   "metadata": {},
   "outputs": [
    {
     "name": "stdout",
     "output_type": "stream",
     "text": [
      "Độ lỗi trên tập train:\n",
      "Phần trăm phân lớp sai: 0.20693928128872366\n",
      "Độ lỗi trên tập test:\n",
      "Phần trăm phân lớp sai: 0.2722772277227723\n",
      "\n"
     ]
    },
    {
     "name": "stderr",
     "output_type": "stream",
     "text": [
      "C:\\Users\\thafnhlong\\AppData\\Local\\Programs\\Python\\Python39\\lib\\site-packages\\sklearn\\neural_network\\_multilayer_perceptron.py:549: ConvergenceWarning: lbfgs failed to converge (status=1):\n",
      "STOP: TOTAL NO. of ITERATIONS REACHED LIMIT.\n",
      "\n",
      "Increase the number of iterations (max_iter) or scale the data as shown in:\n",
      "    https://scikit-learn.org/stable/modules/preprocessing.html\n",
      "  self.n_iter_ = _check_optimize_result(\"lbfgs\", opt_res, self.max_iter)\n"
     ]
    }
   ],
   "source": [
    "# Tạo mạng neural network với các tham số :\n",
    "# tầng ẩn thứ nhất gồm 25 noron, hàm kích hoạt: tanh\n",
    "# tầng ẩn thứ hai gồm 9 noron, hàm kích hoạt: tanh\n",
    "# Thuật toán cực tiểu hóa: LBFGS, số vòng lặp tối đa: 1000\n",
    "neural_net_model = MLPClassifier(hidden_layer_sizes=(25,9),activation=\"tanh\",\n",
    "                                solver=\"lbfgs\", max_iter=1000,random_state=0)\n",
    "\n",
    "# Loại bỏ các record nan\n",
    "tmp1 = tmp.dropna(subset=[\"rate_count\",\"favorite\",\"numOfServices\"])\n",
    "X = tmp1[[\"rate_count\",\"favorite\",\"numOfServices\"]]\n",
    "y = tmp1[\"f_rate\"]\n",
    "\n",
    "# Fit mô hình vào tập huấn luyện\n",
    "train_X, test_X, train_y, test_y = train_test_split(X,y,test_size=0.2)\n",
    "neural_net_model.fit(train_X,train_y)\n",
    "\n",
    "# Kiểm tra độ đo lỗi\n",
    "print(\"Độ lỗi trên tập train:\")\n",
    "print(\"Phần trăm phân lớp sai:\", np.mean(train_y != neural_net_model.predict(train_X)))\n",
    "print(\"Độ lỗi trên tập test:\")\n",
    "print(\"Phần trăm phân lớp sai:\", np.mean(test_y != neural_net_model.predict(test_X)))\n",
    "print()"
   ]
  },
  {
   "cell_type": "markdown",
   "metadata": {},
   "source": [
    "Nhận xét: \n",
    "- Độ lỗi của mô hình neural network có kết quả tốt nhất\n",
    "- Việc chia training và test set không ảnh hưởng quá nhiều tới kết quả"
   ]
  },
  {
   "cell_type": "markdown",
   "metadata": {},
   "source": [
    "Kết luận:\n",
    "- Có thể thấy độ lỗi phân lớp cả 2 phương pháp (softmax,neural) có giá trị khá nhỏ đó cũng là một dấu hiệu tốt cho thấy việc học máy hiệu quả.\n",
    "- Dựa vào tham số đã xác định được qua model thì ta có thể thấy rằng với `rate_count`, `favorite`, `numOfServices` có thể xác đinh được phân lớp đánh giá `rate` (\"BAD\",\"NORMAL\",\"GOOD\").\n",
    "- Vậy mô hình đã giải quyết được bài toán mà chúng ta đã đề ra ban đầu"
   ]
  }
 ],
 "metadata": {
  "interpreter": {
   "hash": "d98794233341d25f2a0894d4e9a90ded70997a05acb150b34675aa0571b13e29"
  },
  "kernelspec": {
   "display_name": "Python 3.9.6 64-bit",
   "name": "python3"
  },
  "language_info": {
   "codemirror_mode": {
    "name": "ipython",
    "version": 3
   },
   "file_extension": ".py",
   "mimetype": "text/x-python",
   "name": "python",
   "nbconvert_exporter": "python",
   "pygments_lexer": "ipython3",
   "version": "3.9.6"
  },
  "orig_nbformat": 4
 },
 "nbformat": 4,
 "nbformat_minor": 2
}
